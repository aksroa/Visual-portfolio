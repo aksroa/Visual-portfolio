{
 "cells": [
  {
   "cell_type": "code",
   "execution_count": 2,
   "metadata": {},
   "outputs": [],
   "source": [
    "import sys,os\n",
    "sys.path.append(os.path.join(\"..\"))\n",
    "import argparse\n",
    "from utils.neuralnetwork import NeuralNetwork\n",
    "from sklearn.preprocessing import LabelBinarizer\n",
    "from sklearn.model_selection import train_test_split\n",
    "from sklearn.metrics import classification_report\n",
    "from sklearn import datasets"
   ]
  },
  {
   "cell_type": "code",
   "execution_count": 3,
   "metadata": {},
   "outputs": [],
   "source": [
    "def main():\n",
    "    \n",
    "    # define input parameters\n",
    "    ap = argparse.ArgumentParser()\n",
    "    ap.add_argument(\"-i\", \"--input_file\", required= False, help=\"path to input file\", default=\"data/weighted_edgelist.csv\")\n",
    "    ap.add_argument(\"-w\", \"--weight\",required=False, help=\"edge weight\", default=200, type=int)\n",
    "    args = vars(ap.parse_args())"
   ]
  },
  {
   "cell_type": "code",
   "execution_count": 6,
   "metadata": {},
   "outputs": [],
   "source": [
    "def NeuralNetwork(input_file, weight):\n",
    "    digits = datasets.load_digits()\n",
    "\n",
    "    # Convert to floats\n",
    "    data = digits.data.astype(\"float\")\n",
    "\n",
    "    # MinMax regularization\n",
    "    data = (data - data.min())/(data.max() - data.min())\n",
    "\n",
    "    # Print dimensions\n",
    "    print(f\"[INFO] samples: {data.shape[0]}, dim: {data.shape[1]}\")\n",
    "\n",
    "\n",
    "    # split data\n",
    "    X_train, X_test, y_train, y_test = train_test_split(data, \n",
    "                                                  digits.target, \n",
    "                                                  test_size=0.2)\n",
    "\n",
    "    # convert labels from integers to vectors\n",
    "    y_train = LabelBinarizer().fit_transform(y_train)\n",
    "    y_test = LabelBinarizer().fit_transform(y_test)\n",
    "\n",
    "    # train network\n",
    "    print(\"[INFO] training network...\")\n",
    "    nn = NeuralNetwork([X_train.shape[1], 32, 16, 10])\n",
    "    print(\"[INFO] {}\".format(nn))\n",
    "    nn.fit(X_train, y_train, epochs=1000)\n",
    "\n",
    "    # evaluate network\n",
    "    print([\"[INFO] evaluating network...\"])\n",
    "    predictions = nn.predict(X_test)\n",
    "    predictions = predictions.argmax(axis=1)\n",
    "    print(classification_report(y_test.argmax(axis=1), predictions))\n"
   ]
  },
  {
   "cell_type": "code",
   "execution_count": 7,
   "metadata": {},
   "outputs": [
    {
     "name": "stderr",
     "output_type": "stream",
     "text": [
      "usage: ipykernel_launcher.py [-h] [-i INPUT_FILE] [-w WEIGHT]\n",
      "ipykernel_launcher.py: error: unrecognized arguments: -f /home/cds-au579253/.local/share/jupyter/runtime/kernel-b0b2b0b5-e090-4d60-bf1f-7dbbf1088f36.json\n"
     ]
    },
    {
     "ename": "SystemExit",
     "evalue": "2",
     "output_type": "error",
     "traceback": [
      "An exception has occurred, use %tb to see the full traceback.\n",
      "\u001b[0;31mSystemExit\u001b[0m\u001b[0;31m:\u001b[0m 2\n"
     ]
    },
    {
     "name": "stderr",
     "output_type": "stream",
     "text": [
      "/home/cds-au579253/cds-language/sentiment_environment/lib/python3.6/site-packages/IPython/core/interactiveshell.py:3351: UserWarning: To exit: use 'exit', 'quit', or Ctrl-D.\n",
      "  warn(\"To exit: use 'exit', 'quit', or Ctrl-D.\", stacklevel=1)\n"
     ]
    }
   ],
   "source": [
    "# Define behaviour when called from command line\n",
    "if __name__ == \"__main__\":\n",
    "    main()"
   ]
  },
  {
   "cell_type": "code",
   "execution_count": null,
   "metadata": {},
   "outputs": [],
   "source": []
  },
  {
   "cell_type": "code",
   "execution_count": null,
   "metadata": {},
   "outputs": [],
   "source": []
  },
  {
   "cell_type": "code",
   "execution_count": null,
   "metadata": {},
   "outputs": [],
   "source": []
  },
  {
   "cell_type": "code",
   "execution_count": null,
   "metadata": {},
   "outputs": [],
   "source": []
  },
  {
   "cell_type": "code",
   "execution_count": null,
   "metadata": {},
   "outputs": [],
   "source": []
  }
 ],
 "metadata": {
  "kernelspec": {
   "display_name": "sentiment_environment",
   "language": "python",
   "name": "sentiment_environment"
  },
  "language_info": {
   "codemirror_mode": {
    "name": "ipython",
    "version": 3
   },
   "file_extension": ".py",
   "mimetype": "text/x-python",
   "name": "python",
   "nbconvert_exporter": "python",
   "pygments_lexer": "ipython3",
   "version": "3.6.9"
  }
 },
 "nbformat": 4,
 "nbformat_minor": 4
}
