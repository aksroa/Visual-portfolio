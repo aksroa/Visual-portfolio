{
 "cells": [
  {
   "cell_type": "code",
   "execution_count": 47,
   "metadata": {},
   "outputs": [],
   "source": [
    "# Importing packages\n",
    "import numpy as np\n",
    "import pandas as pd\n",
    "import os\n",
    "import sys\n",
    "sys.path.append(os.path.join(\"..\"))\n",
    "#openCv\n",
    "import cv2 "
   ]
  },
  {
   "cell_type": "code",
   "execution_count": 48,
   "metadata": {},
   "outputs": [],
   "source": [
    "# Creating directory \"Split_images\"\n",
    "if not os.path.exists('Split_images'):\n",
    "    os.makedirs('Split_images')"
   ]
  },
  {
   "cell_type": "code",
   "execution_count": 49,
   "metadata": {},
   "outputs": [
    {
     "data": {
      "text/plain": [
       "'/home/cds-au579253/cds-visual/Homework/Assignment1/src'"
      ]
     },
     "execution_count": 49,
     "metadata": {},
     "output_type": "execute_result"
    }
   ],
   "source": [
    "os.getcwd()"
   ]
  },
  {
   "cell_type": "code",
   "execution_count": 50,
   "metadata": {},
   "outputs": [],
   "source": [
    "# Defining the path to the data\n",
    "path = os.path.join(\"..\", \"Data\")\n",
    "# Getting the filenames\n",
    "filenames = [name for name in os.listdir(meme_folder_path)]\n",
    "\n",
    "# Creating empty lists of hight, width and filenames\n",
    "heights = []\n",
    "widths =[]\n",
    "channels =[]\n",
    "new_filenames = []"
   ]
  },
  {
   "cell_type": "code",
   "execution_count": 51,
   "metadata": {},
   "outputs": [
    {
     "ename": "AttributeError",
     "evalue": "'int' object has no attribute 'append'",
     "output_type": "error",
     "traceback": [
      "\u001b[0;31m---------------------------------------------------------------------------\u001b[0m",
      "\u001b[0;31mAttributeError\u001b[0m                            Traceback (most recent call last)",
      "\u001b[0;32m<ipython-input-51-c20b64c6f8ed>\u001b[0m in \u001b[0;36m<module>\u001b[0;34m\u001b[0m\n\u001b[1;32m     36\u001b[0m     \u001b[0mwidths\u001b[0m\u001b[0;34m.\u001b[0m\u001b[0mappend\u001b[0m\u001b[0;34m(\u001b[0m\u001b[0mwidth\u001b[0m\u001b[0;34m)\u001b[0m\u001b[0;34m\u001b[0m\u001b[0;34m\u001b[0m\u001b[0m\n\u001b[1;32m     37\u001b[0m     \u001b[0mheights\u001b[0m\u001b[0;34m.\u001b[0m\u001b[0mappend\u001b[0m\u001b[0;34m(\u001b[0m\u001b[0mheight\u001b[0m\u001b[0;34m)\u001b[0m\u001b[0;34m\u001b[0m\u001b[0;34m\u001b[0m\u001b[0m\n\u001b[0;32m---> 38\u001b[0;31m     \u001b[0mchannels\u001b[0m\u001b[0;34m.\u001b[0m\u001b[0mappend\u001b[0m\u001b[0;34m(\u001b[0m\u001b[0;34m)\u001b[0m\u001b[0;34m\u001b[0m\u001b[0;34m\u001b[0m\u001b[0m\n\u001b[0m\u001b[1;32m     39\u001b[0m \u001b[0;31m# Appending each of the split images to the \"new_filenames\" list\u001b[0m\u001b[0;34m\u001b[0m\u001b[0;34m\u001b[0m\u001b[0;34m\u001b[0m\u001b[0m\n\u001b[1;32m     40\u001b[0m     \u001b[0mnew_filenames\u001b[0m\u001b[0;34m.\u001b[0m\u001b[0mappend\u001b[0m\u001b[0;34m(\u001b[0m\u001b[0mos\u001b[0m\u001b[0;34m.\u001b[0m\u001b[0mpath\u001b[0m\u001b[0;34m.\u001b[0m\u001b[0msplitext\u001b[0m\u001b[0;34m(\u001b[0m\u001b[0mfile\u001b[0m\u001b[0;34m)\u001b[0m\u001b[0;34m[\u001b[0m\u001b[0;36m0\u001b[0m\u001b[0;34m]\u001b[0m\u001b[0;34m+\u001b[0m\u001b[0;34m\"_topleft.jpg\"\u001b[0m\u001b[0;34m)\u001b[0m\u001b[0;34m\u001b[0m\u001b[0;34m\u001b[0m\u001b[0m\n",
      "\u001b[0;31mAttributeError\u001b[0m: 'int' object has no attribute 'append'"
     ]
    }
   ],
   "source": [
    "# Looping through all the images\n",
    "for file in filenames:\n",
    "    path_to_image = os.path.join(path, file)\n",
    "    image= cv2.imread(path_to_image)\n",
    "    \n",
    "# Getting hight and width from the images\n",
    "    height = int(image.shape[0])\n",
    "    width = int(image.shape[1])\n",
    "    channels = int(image.shape[2])\n",
    "    \n",
    "# Splitting the images in four equal-sized quadrants\n",
    "    # Getting the top-left corner\n",
    "    topleft = image[ 0:int(height/2),0:int(width/2)]\n",
    "    # Getting the top-right corner\n",
    "    topright = image[0:int(height/2),int(width/2):width]\n",
    "    # Getting the bottom-left corner\n",
    "    bottomleft = image[int(height/2):height, 0:int(width/2)]\n",
    "    # Getting the bottom-right corner\n",
    "    bottomright = image[int(height/2):height, int(width/2):width]\n",
    "    \n",
    "# Creating the path to where the images are going to be stored\n",
    "\n",
    "    topleft_path = os.path.join(\"Split_images\", os.path.splitext(file)[0]+\"_topleft.jpg\")\n",
    "    cv2.imwrite(topleft_path, topleft)\n",
    "    \n",
    "    topright_path = os.path.join(\"Split_images\", os.path.splitext(file)[0]+\"_topright.jpg\")\n",
    "    cv2.imwrite(topright_path, topright)\n",
    "    \n",
    "    bottomleft_path = os.path.join(\"Split_images\", os.path.splitext(file)[0]+\"_bottomleft.jpg\")\n",
    "    cv2.imwrite(bottomleft_path, bottomleft)\n",
    "    \n",
    "    bottomright_path = os.path.join(\"Split_images\", os.path.splitext(file)[0]+\"_bottomright.jpg\")\n",
    "    cv2.imwrite(bottomright_path, bottomright)\n",
    "    \n",
    "# Appending widths and heights to the \"heights\" and \"widths\" created earlier  \n",
    "    widths.append(width)\n",
    "    heights.append(height)\n",
    "    channels.append()\n",
    "# Appending each of the split images to the \"new_filenames\" list\n",
    "    new_filenames.append(os.path.splitext(file)[0]+\"_topleft.jpg\")\n",
    "    new_filenames.append(os.path.splitext(file)[0]+\"_topright.jpg\")\n",
    "    new_filenames.append(os.path.splitext(file)[0]+\"_bottomleft.jpg\")\n",
    "    new_filenames.append(os.path.splitext(file)[0]+\"_bottomright.jpg\")"
   ]
  },
  {
   "cell_type": "code",
   "execution_count": 52,
   "metadata": {},
   "outputs": [],
   "source": [
    "#Saving lists in data frame\n",
    "df = pd.DataFrame(list(zip(widths,heights, new_filenames)), columns=['width', 'height', 'new_filename']) \n",
    "\n",
    "#Making output path\n",
    "output_path = os.path.join(\"Split_images\",\"novel_words.csv\")\n",
    "\n",
    "df.to_csv(output_path)"
   ]
  },
  {
   "cell_type": "code",
   "execution_count": null,
   "metadata": {},
   "outputs": [],
   "source": []
  }
 ],
 "metadata": {
  "kernelspec": {
   "display_name": "cv101",
   "language": "python",
   "name": "cv101"
  },
  "language_info": {
   "codemirror_mode": {
    "name": "ipython",
    "version": 3
   },
   "file_extension": ".py",
   "mimetype": "text/x-python",
   "name": "python",
   "nbconvert_exporter": "python",
   "pygments_lexer": "ipython3",
   "version": "3.6.9"
  }
 },
 "nbformat": 4,
 "nbformat_minor": 4
}
